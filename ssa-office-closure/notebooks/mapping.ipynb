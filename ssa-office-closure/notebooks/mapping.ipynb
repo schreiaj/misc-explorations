{
 "cells": [
  {
   "cell_type": "code",
   "execution_count": 38,
   "id": "28c8b16e-93f8-4d06-b697-4252f200a704",
   "metadata": {},
   "outputs": [
    {
     "data": {
      "application/vnd.jupyter.widget-view+json": {
       "model_id": "82be6adf43e242aeb6d2e28adfc97365",
       "version_major": 2,
       "version_minor": 0
      },
      "text/plain": [
       "FloatProgress(value=0.0, layout=Layout(width='auto'), style=ProgressStyle(bar_color='black'))"
      ]
     },
     "metadata": {},
     "output_type": "display_data"
    },
    {
     "data": {
      "application/vnd.jupyter.widget-view+json": {
       "model_id": "5904c33a07a64e40ae3a9e5bdc7d11c2",
       "version_major": 2,
       "version_minor": 0
      },
      "text/plain": [
       "FloatProgress(value=0.0, layout=Layout(width='auto'), style=ProgressStyle(bar_color='black'))"
      ]
     },
     "metadata": {},
     "output_type": "display_data"
    },
    {
     "name": "stderr",
     "output_type": "stream",
     "text": [
      "/Users/schreiaj/project/sys-gov-demos/ssa-office-closure/venv/lib/python3.11/site-packages/lonboard/_geoarrow/ops/reproject.py:33: UserWarning: No CRS exists on data. If no data is shown on the map, double check that your CRS is WGS84.\n",
      "  warn(\n"
     ]
    },
    {
     "data": {
      "application/vnd.jupyter.widget-view+json": {
       "model_id": "528f1b517c4940bea3be831d9751f791",
       "version_major": 2,
       "version_minor": 1
      },
      "text/plain": [
       "Map(custom_attribution='', layers=(PolygonLayer(get_elevation=arro3.core.ChunkedArray<Float32>\n",
       ", get_fill_colo…"
      ]
     },
     "execution_count": 38,
     "metadata": {},
     "output_type": "execute_result"
    }
   ],
   "source": [
    "import duckdb\n",
    "from lonboard import PolygonLayer, Map, PathLayer\n",
    "\n",
    "import matplotlib as mpl\n",
    "from matplotlib.colors import LogNorm\n",
    "\n",
    "import pandas as df\n",
    "\n",
    "\n",
    "\n",
    "db = duckdb.connect()\n",
    " \n",
    "db.execute(\"INSTALL spatial;\")\n",
    "db.execute(\"LOAD spatial;\")\n",
    "# This line will load the optimized parquet file\n",
    "# db.execute(\"CREATE TABLE ssa_times AS FROM '../data/optimized.parquet';\")\n",
    "# This line will load the parquet file for the DOGE selected offices\n",
    "db.execute(\"CREATE TABLE ssa_times AS FROM '../data/all_ssa_times.parquet';\")\n",
    "sql = \"\"\" SELECT \n",
    "        ST_ASWKB(ssa_times.geom) as geom, \n",
    "        P.over_65, \n",
    "        P.total , \n",
    "        destination_id as d, \n",
    "        nearest_office, \n",
    "        increase_sec, \n",
    "        now_duration_sec, \n",
    "        after_close_duration_sec, \n",
    "        after_close_office, \n",
    "        coalesce(per_gop, 0) per_gop,\n",
    "        coalesce(per_dem, 0) per_dem\n",
    "    FROM ssa_times \n",
    "    JOIN './data/tract/cb_2023_us_tract_5m.shp' AS G ON G.GEOID = destination_id\n",
    "    LEFT OUTER JOIN './data/ssa-populations.csv' P ON \n",
    "        destination_id = P.geoid\n",
    "    LEFT OUTER JOIN './data/2024_US_County_Level_Presidential_Results.csv' ON\n",
    "        destination_id LIKE concat(county_fips, '%');\"\"\" \n",
    "query = db.sql(sql)\n",
    "\n",
    "\n",
    "\n",
    "res = query.execute().df()\n",
    "\n",
    "\n",
    "\n",
    "\n",
    "colormap = mpl.colormaps[\"plasma\"]\n",
    "color_normalizer = mpl.colors.Normalize(1, vmax=res['increase_sec'].max()) #Normalize population to the 0-1 range\n",
    "# color_normalizer = mpl.colors.Normalize(0, vmax=1) #Normalize population to the 0-1 range\n",
    "# color_normalizer = mpl.colors.Normalize(1, vmax=4 * 60 * 60) #Normalize population to the 0-1 range\n",
    "colors = colormap(color_normalizer(res['increase_sec']), bytes=True)\n",
    "# colors[:,3] = 127\n",
    "\n",
    "height_normalizer = mpl.colors.Normalize(0, vmax=res['total'].max())\n",
    "heights = height_normalizer(res['total']) * 400000\n",
    "\n",
    "\n",
    "layer = PolygonLayer.from_duckdb(\n",
    "    query,\n",
    "    # auto_highlight=True,\n",
    "    get_line_color=\"black\",\n",
    "    get_line_width=2,\n",
    "    get_fill_color=colors,\n",
    "    get_elevation=heights,\n",
    "    # extruded=True,\n",
    "    # opacity=0.02,\n",
    "    highlight_color=[255,0,0]\n",
    ")\n",
    "\n",
    "m = Map(layer)\n",
    "m._height = 1024\n",
    "m.to_html('current_trip_times.html')\n",
    "m\n"
   ]
  },
  {
   "cell_type": "code",
   "execution_count": null,
   "id": "73ef44f4-480d-4661-82a7-8e5168f0369c",
   "metadata": {},
   "outputs": [],
   "source": []
  }
 ],
 "metadata": {
  "kernelspec": {
   "display_name": "Python 3 (ipykernel)",
   "language": "python",
   "name": "python3"
  },
  "language_info": {
   "codemirror_mode": {
    "name": "ipython",
    "version": 3
   },
   "file_extension": ".py",
   "mimetype": "text/x-python",
   "name": "python",
   "nbconvert_exporter": "python",
   "pygments_lexer": "ipython3",
   "version": "3.11.5"
  }
 },
 "nbformat": 4,
 "nbformat_minor": 5
}
